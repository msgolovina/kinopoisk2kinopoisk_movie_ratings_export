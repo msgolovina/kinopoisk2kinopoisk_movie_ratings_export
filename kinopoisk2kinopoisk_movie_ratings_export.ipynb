{
 "cells": [
  {
   "cell_type": "markdown",
   "metadata": {},
   "source": [
    "На Кинопоиск можно импортировать оценки с IMDB. Мне же потребовалось перенести оценки и любимые фильмы с одного аккаунта Кинопоиска на другой. Необходимо иметь установленный Chromium/Google Chrome и ChromeDriver. Вход и ввод капчи производятся вручную."
   ]
  },
  {
   "cell_type": "markdown",
   "metadata": {},
   "source": [
    "# Получение оценок из старого аккаунта"
   ]
  },
  {
   "cell_type": "code",
   "execution_count": 1,
   "metadata": {},
   "outputs": [],
   "source": [
    "import math\n",
    "import time\n",
    "from selenium import webdriver\n",
    "path_to_chromedriver = '/Applications/chromedriver'\n",
    "driver = webdriver.Chrome(path_to_chromedriver) \n",
    "driver.get('https://www.kinopoisk.ru/#login')\n",
    "\n",
    "# вхожу в аккаунт, из которого хочу перенести оценки и любимые фильмы\n",
    "# выделяю 30 секунд для авторизации и ввода капчи вручную. \n",
    "\n",
    "time.sleep(30)\n",
    "\n",
    "# после входа в систему определяю user_id\n",
    "\n",
    "user_icon_selector = 'div.header-fresh-partial-component__user-container > div > div.header-fresh-user-partial-component__button > div > span'\n",
    "user_id_selector = 'div.header-fresh-user-partial-component__dropdown.header-fresh-user-partial-component__dropdown_visible > div > ul > div:nth-child(1) > li > a'\n",
    "\n",
    "driver.find_element_by_css_selector(user_icon_selector).click()\n",
    "driver.find_element_by_css_selector(user_id_selector).click()\n",
    "user_id = driver.current_url.split('user/')[1].split('/')[0]\n",
    "\n",
    "# захожу на первую страницу с оценками, считаю количество страниц, по которым надо будет итерироваться\n",
    "ratings_page = 'https://www.kinopoisk.ru/user/' + user_id +'/votes/list/ord/date/page/{}/#list'\n",
    "driver.get(ratings_page.format(1))\n",
    "num_movies_selector = 'tbody > tr > td > h2'\n",
    "num_movies = driver.find_element_by_css_selector(num_movies_selector).text.split()[2][1:-1]\n",
    "num_pages = math.ceil(int(num_movies) / 50)\n",
    "\n",
    "# скачиваю просмотренные фильмы и выставленные им оценки\n",
    "\n",
    "movie_link_selector = 'div.nameRus > a'\n",
    "movie_rating_selector = 'div.selects.vote_widget span'\n",
    "all_links = []\n",
    "all_ratings = []\n",
    "\n",
    "for i in range(1, num_pages+1):\n",
    "    driver.get(ratings_page.format(i))\n",
    "    movie_links = driver.find_elements_by_css_selector(movie_link_selector)\n",
    "    ratings = driver.find_elements_by_css_selector(movie_rating_selector)\n",
    "    all_links.extend([link.get_attribute('href') for link in movie_links])\n",
    "    all_ratings.extend([item.text for item in ratings])\n",
    "\n",
    "# захожу на первую страницу с любимыми фильмами, считаю количество страниц\n",
    "\n",
    "faves_page = 'https://www.kinopoisk.ru/user/' + user_id +'/movies/list/sort/default/vector/desc/page/{}/#list'\n",
    "driver.get(faves_page.format(1))\n",
    "num_movies = driver.find_element_by_class_name('num').text[1:-1]\n",
    "num_pages = math.ceil(int(num_movies) / 25)\n",
    "\n",
    "# скачиваю любимые фильмы\n",
    "\n",
    "movie_link_selector = 'div.info > div > font > a'\n",
    "faves = []\n",
    "\n",
    "for i in range(1, num_fav_pages+1):\n",
    "    driver.get(faves_page.format(i))\n",
    "    movie_links = driver.find_elements_by_css_selector(movie_link_selector)\n",
    "    faves.extend([link.get_attribute('href') for link in movie_links])    \n",
    "all_ratings = [x for x in all_ratings if x != '']\n",
    "\n",
    "driver.quit()"
   ]
  },
  {
   "cell_type": "markdown",
   "metadata": {},
   "source": [
    "# Проставление полученных оценок в новом аккаунте"
   ]
  },
  {
   "cell_type": "code",
   "execution_count": 2,
   "metadata": {},
   "outputs": [],
   "source": [
    "driver = webdriver.Chrome('/Applications/chromedriver')\n",
    "url = 'https://www.kinopoisk.ru/'\n",
    "driver.get(url)\n",
    "\n",
    "# выделяю 30 секунд для авторизации и ввода капчи вручную\n",
    "\n",
    "time.sleep(30)\n",
    "\n",
    "# вхожу в аккаунт, в который хочу перенести оценки и любимые фильмы\n",
    "# проставляю оценки all_ratings фильмам по ссылкам из списка all_links\n",
    "\n",
    "from selenium.webdriver.support.ui import WebDriverWait\n",
    "from selenium.webdriver.common.by import By\n",
    "from selenium.webdriver.support import expected_conditions\n",
    "\n",
    "for page, rating in zip(reversed(all_links), reversed(all_ratings)):\n",
    "    driver.get(page)\n",
    "    try:\n",
    "        star = WebDriverWait(driver, 7).until(\n",
    "                expected_conditions.presence_of_element_located((By.CLASS_NAME, 's{}'.format(rating)))).click()\n",
    "    except:\n",
    "        print('Failed to rate movie {}'.format(page))\n",
    "        continue\n",
    "                \n",
    "# проставляю любимые фильмы по ссылкам из списка faves\n",
    "\n",
    "faves_selector = 'a#btn_fav_film'\n",
    "for page in reversed(faves):\n",
    "    driver.get(page)\n",
    "    try:\n",
    "        star = WebDriverWait(driver, 7).until(\n",
    "                expected_conditions.presence_of_element_located((By.CSS_SELECTOR, faves_selector))).click()   \n",
    "    except:\n",
    "        print('Failed to add movie to favourites: {}'.format(page))\n",
    "        continue           "
   ]
  }
 ],
 "metadata": {
  "kernelspec": {
   "display_name": "Python 3",
   "language": "python",
   "name": "python3"
  },
  "language_info": {
   "codemirror_mode": {
    "name": "ipython",
    "version": 3
   },
   "file_extension": ".py",
   "mimetype": "text/x-python",
   "name": "python",
   "nbconvert_exporter": "python",
   "pygments_lexer": "ipython3",
   "version": "3.6.5"
  }
 },
 "nbformat": 4,
 "nbformat_minor": 2
}
